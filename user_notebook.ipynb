{
 "cells": [
  {
   "cell_type": "markdown",
   "metadata": {},
   "source": [
    "Version 12.01.2024.12"
   ]
  },
  {
   "cell_type": "markdown",
   "metadata": {},
   "source": [
    "Initializing for Google Colab  Use SHIFT+ENTER to execute selected cell and go to next cell"
   ]
  },
  {
   "cell_type": "code",
   "execution_count": null,
   "metadata": {},
   "outputs": [],
   "source": [
    "!git clone https://github.com/McGinnis-Atom/IPAElchColab\n",
    "!pip install -r IPAElchColab/requirements.txt\n",
    "\n",
    "from google.colab import output\n",
    "output.enable_custom_widget_manager()"
   ]
  },
  {
   "cell_type": "markdown",
   "metadata": {},
   "source": [
    "Importing all Libraries, and loding the data"
   ]
  },
  {
   "cell_type": "code",
   "execution_count": null,
   "metadata": {},
   "outputs": [],
   "source": [
    "from IPAElchColab import coltrims\n",
    "import numpy as np\n",
    "import matplotlib.pyplot as plt\n",
    "import pandas as pd\n",
    "\n",
    "%matplotlib widget\n",
    "plt.rcParams['image.cmap'] = 'cividis'"
   ]
  },
  {
   "cell_type": "code",
   "execution_count": 30,
   "metadata": {},
   "outputs": [],
   "source": [
    "df = pd.read_csv(r\"/content/IPAElchColab/dataCO-1M.zip\")"
   ]
  },
  {
   "cell_type": "markdown",
   "metadata": {},
   "source": [
    "Creating a reaction, which organizes the data"
   ]
  },
  {
   "cell_type": "code",
   "execution_count": null,
   "metadata": {},
   "outputs": [],
   "source": [
    "reaction = coltrims.Reaction()\n",
    "\n",
    "reaction.add_elec(df[\"e1x\"], df[\"e1y\"], df[\"e1tof\"])\n",
    "\n",
    "reaction.add_ion(df[\"r1x\"], df[\"r1y\"], df[\"r1tof\"], m=12, q=1, tofMean=3340.0)\n",
    "reaction.add_ion(df[\"r2x\"], df[\"r2y\"], df[\"r2tof\"], m=16, q=1, tofMean=3865.0)"
   ]
  },
  {
   "cell_type": "markdown",
   "metadata": {},
   "source": [
    "Defining the Spectrometerregions"
   ]
  },
  {
   "cell_type": "code",
   "execution_count": null,
   "metadata": {},
   "outputs": [],
   "source": [
    "specElec = coltrims.Spectrometer()\n",
    "specElec.magneticField = 6.0\n",
    "specElec.addRegion(57, 57.4)\n",
    "specElec.addRegion(117, 0)\n",
    "\n",
    "reaction.setElectronSpectrometer(specElec)"
   ]
  },
  {
   "cell_type": "code",
   "execution_count": null,
   "metadata": {},
   "outputs": [],
   "source": [
    "specIon = coltrims.Spectrometer()\n",
    "specIon.magneticField = 6.\n",
    "specIon.addRegion(None, 57.4)\n",
    "\n",
    "reaction.setIonSpectrometer(specIon)"
   ]
  },
  {
   "cell_type": "markdown",
   "metadata": {},
   "source": [
    "Defining the settings to calculate postions and momenta"
   ]
  },
  {
   "cell_type": "code",
   "execution_count": null,
   "metadata": {},
   "outputs": [],
   "source": [
    "elecSettings = coltrims.CalcSettings(\n",
    "    shiftX  = 0.00, shiftY  = 0.00, shiftTOF    = 0.00,\n",
    "    stretchX= 1.00, stretchY= 1.00, stretchTotal= 1.00,\n",
    "\n",
    "    rotateDeg= 130, shiftThenRotate=True,\n",
    ")\n",
    "reaction.setElectronSettings(elecSettings)\n",
    "\n",
    "ionSettings = coltrims.CalcSettings(\n",
    "    shiftX  = 0.00, shiftY  = 0.00, shiftTOF    = 0.00,\n",
    "    stretchX= 1.00, stretchY= 1.00, stretchTotal= 1.00,\n",
    "    \n",
    "    rotateDeg=  60, shiftThenRotate=False,\n",
    ")\n",
    "reaction.setIonSettings(ionSettings)\n"
   ]
  },
  {
   "cell_type": "markdown",
   "metadata": {},
   "source": [
    "Photoion - Photoion - Coincidence Time-of-Flight plot"
   ]
  },
  {
   "cell_type": "code",
   "execution_count": null,
   "metadata": {},
   "outputs": [],
   "source": [
    "# Pipico\n",
    "plt.close()\n",
    "_,x,y,_ = plt.hist2d(reaction.i[0].tof, reaction.i[1].tof, bins=(200,300), range=((0, 4000), (0,5000)))\n",
    "plt.plot(x,x,c=\"white\")\n",
    "plt.plot(y,y,c=\"white\")\n",
    "plt.colorbar()\n",
    "#plt.grid(\"both\")\n",
    "plt.show()"
   ]
  },
  {
   "cell_type": "markdown",
   "metadata": {},
   "source": [
    "Momentum Plots of the first and second ion"
   ]
  },
  {
   "cell_type": "code",
   "execution_count": null,
   "metadata": {},
   "outputs": [],
   "source": [
    "# Ion Momenta\n",
    "plt.close()\n",
    "fig, ((ax11, ax12, ax13), (ax21, ax22, ax23)) = plt.subplots(nrows=2, ncols=3, figsize=(11,6))\n",
    "\n",
    "# Ion 0\n",
    "# x-y\n",
    "_,_,_,plot = ax11.hist2d(reaction.i[0].px, reaction.i[0].py, bins=(200,200), range=((-150,150), (-150,150)))\n",
    "ax11.set_aspect(\"equal\")\n",
    "plt.colorbar(plot, ax=ax11)\n",
    "# x-z\n",
    "_,_,_,plot = ax12.hist2d(reaction.i[0].px, reaction.i[0].pz, bins=(200,200), range=((-150,150), (-150,150)))\n",
    "ax12.set_aspect(\"equal\")\n",
    "plt.colorbar(plot, ax=ax12)\n",
    "# y-z\n",
    "_,_,_,plot = ax13.hist2d(reaction.i[0].py, reaction.i[0].pz, bins=(200,200), range=((-150,150), (-150,150)))\n",
    "ax13.set_aspect(\"equal\")\n",
    "plt.colorbar(plot, ax=ax13)\n",
    "\n",
    "# Ion 1\n",
    "# x-y\n",
    "_,_,_,plot = ax21.hist2d(reaction.i[1].px, reaction.i[1].py, bins=(200,200), range=((-150,150), (-150,150)))\n",
    "ax21.set_aspect(\"equal\")\n",
    "plt.colorbar(plot, ax=ax21)\n",
    "# x-z\n",
    "_,_,_,plot = ax22.hist2d(reaction.i[1].px, reaction.i[1].pz, bins=(200,200), range=((-150,150), (-150,150)))\n",
    "ax22.set_aspect(\"equal\")\n",
    "plt.colorbar(plot, ax=ax22)\n",
    "# y-z\n",
    "_,_,_,plot = ax23.hist2d(reaction.i[1].py, reaction.i[1].pz, bins=(200,200), range=((-150,150), (-150,150)))\n",
    "ax23.set_aspect(\"equal\")\n",
    "plt.colorbar(plot, ax=ax23)\n",
    "\n",
    "fig.tight_layout()\n",
    "plt.show()"
   ]
  },
  {
   "cell_type": "markdown",
   "metadata": {},
   "source": [
    "Momentum and Energy plots of the fotoelectron"
   ]
  },
  {
   "cell_type": "code",
   "execution_count": null,
   "metadata": {},
   "outputs": [],
   "source": [
    "# Electron Momenta\n",
    "plt.close()\n",
    "fig, ((ax31, ax32, ax33),(ax41, ax42, ax43)) = plt.subplots(nrows=2, ncols=3, figsize=(11,6))\n",
    "\n",
    "# Electron 0\n",
    "# x-y\n",
    "_,_,_,plot = ax31.hist2d(reaction.e[0].px, reaction.e[0].py, bins=(200,200), range=((-1.50,1.50), (-1.50,1.50)))\n",
    "ax31.set_aspect(\"equal\")\n",
    "plt.colorbar(plot, ax=ax31)\n",
    "# x-z\n",
    "_,_,_,plot = ax32.hist2d(reaction.e[0].px, reaction.e[0].pz, bins=(200,200), range=((-1.50,1.50), (-1.50,1.50)))\n",
    "ax32.set_aspect(\"equal\")\n",
    "plt.colorbar(plot, ax=ax32)\n",
    "# y-z\n",
    "_,_,_,plot = ax33.hist2d(reaction.e[0].py, reaction.e[0].pz, bins=(200,200), range=((-1.50,1.50), (-1.50,1.50)))\n",
    "ax33.set_aspect(\"equal\")\n",
    "plt.colorbar(plot, ax=ax33)\n",
    "# Energy\n",
    "ax41.hist(reaction.e[0].energy, bins=1000)\n",
    "ax41.set_xlabel(\"Energy / eV\")\n",
    "#ax41.grid(\"both\")\n",
    "# Energy-phi\n",
    "#_,_,_,plot = ax42.hist2d(np.arctan2(reaction.e[0].py, reaction.e[0].py), reaction.e[0].energy, bins=(200,200), range=((-2*np.pi,2*np.pi),(0, 10)))\n",
    "_,_,_,plot = ax42.hist2d(np.arctan2(reaction.e[0].py, reaction.e[0].px), reaction.e[0].energy, bins=(200,200), range=((-np.pi,np.pi),(0, 25)))\n",
    "ax42.set_xlabel(\"$\\\\phi / deg$\")\n",
    "ax42.set_ylabel(\"Energy / eV\")\n",
    "plt.colorbar(plot, ax=ax42)\n",
    "# Energy-cosTheta\n",
    "_,_,_,plot = ax43.hist2d(reaction.e[0].pz/reaction.e[0].p, reaction.e[0].energy, bins=(200,200), range=((-1,1),(0,25)))\n",
    "ax43.set_xlabel(\"$\\\\cos\\\\theta$\")\n",
    "ax43.set_ylabel(\"Energy / eV\")\n",
    "plt.colorbar(plot, ax=ax43)\n",
    "\n",
    "fig.tight_layout()\n",
    "plt.show()"
   ]
  },
  {
   "cell_type": "markdown",
   "metadata": {},
   "source": [
    "Definition of the Molecular Frame, trainsformation of the fotoelectron into the molecular frame, and MFPAD"
   ]
  },
  {
   "cell_type": "code",
   "execution_count": null,
   "metadata": {},
   "outputs": [],
   "source": [
    "momDiff    = reaction.i[0] - reaction.i[1]\n",
    "angleLight = np.arccos(momDiff*[0,1,0] / (momDiff.p + 1))\n",
    "\n",
    "coordinateSystem = coltrims.CoordinateSystem(momDiff, np.array([0,1,0]))"
   ]
  },
  {
   "cell_type": "code",
   "execution_count": null,
   "metadata": {},
   "outputs": [],
   "source": [
    "eCS = coordinateSystem(reaction.e[0])"
   ]
  },
  {
   "cell_type": "code",
   "execution_count": null,
   "metadata": {},
   "outputs": [],
   "source": [
    "# MFPAD\n",
    "plt.close()\n",
    "fig, ax51 = plt.subplots(nrows=1, ncols=1, figsize=(5,4))\n",
    "\n",
    "ax51.hist2d(np.arctan2(eCS.py, eCS.px), eCS.pz/eCS.p, bins=(2*36,2*24))\n",
    "ax51.set_xlabel(\"phi / deg\")\n",
    "ax51.set_ylabel(\"$\\\\cos\\\\theta\")\n",
    "\n",
    "plt.show()\n"
   ]
  }
 ],
 "metadata": {
  "kernelspec": {
   "display_name": "Python 3",
   "language": "python",
   "name": "python3"
  },
  "language_info": {
   "codemirror_mode": {
    "name": "ipython",
    "version": 3
   },
   "file_extension": ".py",
   "mimetype": "text/x-python",
   "name": "python",
   "nbconvert_exporter": "python",
   "pygments_lexer": "ipython3",
   "version": "3.11.4"
  }
 },
 "nbformat": 4,
 "nbformat_minor": 2
}
